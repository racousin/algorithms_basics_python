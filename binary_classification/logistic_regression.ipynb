{
 "cells": [
  {
   "cell_type": "markdown",
   "metadata": {},
   "source": [
    "Author:  Raphael Cousin\n",
    "\n",
    "Project: https://github.com/racousin/algorithms_basics_python"
   ]
  },
  {
   "cell_type": "markdown",
   "metadata": {},
   "source": [
    "# Theory"
   ]
  },
  {
   "cell_type": "markdown",
   "metadata": {},
   "source": [
    "__Context:__\n",
    "\n",
    "* Data : $X \\in \\mathbb{R}^d$ \n",
    "\n",
    "\n",
    "* Classes : $Y \\in \\{-1,1\\}$\n",
    "\n",
    "* Classifier :\n",
    "$g^*(x) = \\left\\{\\begin{array}{ll}1 & if\\quad\\mathbb{P}(Y = 1 | X = x) >\\mathbb{P}(Y = -1 | X = x) \\\\-1 & else\\end{array}\\right.$\n",
    "\n",
    "* sample size: $n$\n",
    "\n",
    "* feature size : $p$\n",
    "\n",
    "__Hypothesis:__\n",
    "\n",
    "$\\exists (\\alpha, \\beta) \\in \\mathbb{R} \\times \\mathbb{R}^p$ such as $\\forall x \\in \\mathbb{R}^p:$\n",
    "\n",
    "$log \\left(\\frac{\\mathbb{P}(Y=1 | X = x)}{\\mathbb{P}(Y=-1 | X = x)}\\right) = \\alpha + \\beta^Tx$\n",
    "\n",
    "__Likelihood-Logistic loss-Mean square error:__\n",
    "\n",
    "$l:x \\in \\mathbb{R}^p \\mapsto log(1 + e^{-x})$\n",
    "\n",
    "$L(X,Y,alpha,beta) = \\mathbb{P}(X,Y|\\alpha, \\beta) = \\left(l(Y(\\alpha + \\beta^TX)\\right)^{-1}$\n",
    "\n",
    "$R(f) = \\mathbb{E}\\left[ log\\left(l(Yf(X)\\right)\\right]$\n",
    "\n",
    "__Results:__\n",
    "\n",
    "\n",
    "$g^*(x) = \\left\\{\\begin{array}{ll}1 & if \\quad f^*(x)>0\\\\-1 & else\\end{array}\\right.$\n",
    "\n",
    "with:\n",
    "\n",
    "$f^*(x)=\\alpha_0 + \\beta_0^Tx \\in Argmin_{affine-functions}R(f)$\n",
    "\n",
    "__Empirical mean square error:__\n",
    "\n",
    "$\\hat{R}(\\alpha,\\beta) = \\frac{1}{n} \\sum_{i=1}^{n}log\\left( l(Y_i(\\alpha+\\beta^TXi)\\right)$\n",
    "\n",
    "__Regularization term:__\n",
    "\n",
    "To ensure a minimum, we pose:\n",
    "\n",
    "$\\tilde{R_{\\lambda}}(\\alpha,\\beta) = \\frac{1}{n} \\sum_{i=1}^{n}log\\left( l(Y_i(\\alpha+\\beta^TXi)\\right) + \\frac{\\lambda}{2} ||\\beta||_2^2$"
   ]
  },
  {
   "cell_type": "markdown",
   "metadata": {},
   "source": [
    "# Algorithm"
   ]
  },
  {
   "cell_type": "code",
   "execution_count": 1,
   "metadata": {},
   "outputs": [],
   "source": [
    "import numpy as np\n",
    "import matplotlib.pyplot as plt\n",
    "from sklearn.base import BaseEstimator\n",
    "from sklearn.discriminant_analysis import LinearClassifierMixin"
   ]
  },
  {
   "cell_type": "code",
   "execution_count": 46,
   "metadata": {},
   "outputs": [],
   "source": [
    "def gradient_regular(ab, X, Y, C=1):\n",
    "    print(ab[0])\n",
    "    print(ab[1:])\n",
    "    tmp = np.exp(-Y*(ab[0] +X.dot(np.array(ab[1:]))))\n",
    "    ga = (-Y*tmp/(1+tmp)).mean(axis=0)\n",
    "    tmp2 = np.empty(X.shape)\n",
    "    for i in range(X.shape[1]):\n",
    "        tmp2[:,i] = Y*X[:,i] *(tmp/(1+tmp) + 2* ab[i+1] / C)\n",
    "    gb = [ga] + list(tmp2.mean(axis=0) + 2 * ab[1:])\n",
    "    return np.asarray(gb)"
   ]
  },
  {
   "cell_type": "code",
   "execution_count": 47,
   "metadata": {},
   "outputs": [],
   "source": [
    "def f_regular(ab, X, Y, C=1):\n",
    "    return(log(1+np.exp(-Y*(ab[0] + X.dot(ab[1:])))) + ab[1:].dot(ab[1:]))"
   ]
  },
  {
   "cell_type": "code",
   "execution_count": 52,
   "metadata": {},
   "outputs": [],
   "source": [
    "def gradient_descent(X,Y,C=1):\n",
    "    eps=1e-3\n",
    "    x0 = np.zeros(X.shape[1] + 1)\n",
    "    grad = lambda x: gradient_regular(x, X, Y)\n",
    "    f = lambda x: f_regular(x, X, Y)\n",
    "    cont = lambda it, v: np.linalg.norm(v)>eps\n",
    "    p = [x0]\n",
    "    x = x0\n",
    "    v = grad(x)\n",
    "    it = 0\n",
    "    while cont(it, v):\n",
    "        s = 1\n",
    "        v_norm = v.dot(v)\n",
    "        y = x - s * v\n",
    "        while f(y) > f(x) - s*v_norm/2:\n",
    "            s /= 2\n",
    "            y = x - s * v\n",
    "        x = y\n",
    "        p.append(x)\n",
    "        v = grad(x)\n",
    "        it += 1\n",
    "    return x"
   ]
  },
  {
   "cell_type": "code",
   "execution_count": 53,
   "metadata": {},
   "outputs": [
    {
     "name": "stdout",
     "output_type": "stream",
     "text": [
      "0.0\n",
      "[0. 0.]\n"
     ]
    },
    {
     "ename": "ValueError",
     "evalue": "operands could not be broadcast together with shapes (1000,) (900,) ",
     "output_type": "error",
     "traceback": [
      "\u001b[0;31m---------------------------------------------------------------------------\u001b[0m",
      "\u001b[0;31mValueError\u001b[0m                                Traceback (most recent call last)",
      "\u001b[0;32m<ipython-input-53-bd8995fb7ecd>\u001b[0m in \u001b[0;36m<module>\u001b[0;34m()\u001b[0m\n\u001b[1;32m      1\u001b[0m \u001b[0mlr\u001b[0m \u001b[0;34m=\u001b[0m \u001b[0mLR\u001b[0m\u001b[0;34m(\u001b[0m\u001b[0;34m)\u001b[0m\u001b[0;34m\u001b[0m\u001b[0m\n\u001b[0;32m----> 2\u001b[0;31m \u001b[0mlr\u001b[0m\u001b[0;34m.\u001b[0m\u001b[0mfit\u001b[0m\u001b[0;34m(\u001b[0m\u001b[0mX_train\u001b[0m\u001b[0;34m,\u001b[0m \u001b[0mY_train\u001b[0m\u001b[0;34m)\u001b[0m\u001b[0;34m\u001b[0m\u001b[0m\n\u001b[0m",
      "\u001b[0;32m<ipython-input-42-9521af9831f0>\u001b[0m in \u001b[0;36mfit\u001b[0;34m(self, X, y, C)\u001b[0m\n\u001b[1;32m     10\u001b[0m         \u001b[0;31m#X data numpy array size (n,p)\u001b[0m\u001b[0;34m\u001b[0m\u001b[0;34m\u001b[0m\u001b[0m\n\u001b[1;32m     11\u001b[0m         \u001b[0;31m#Y class numpy array size (n,)\u001b[0m\u001b[0;34m\u001b[0m\u001b[0;34m\u001b[0m\u001b[0m\n\u001b[0;32m---> 12\u001b[0;31m         \u001b[0mtmp\u001b[0m \u001b[0;34m=\u001b[0m \u001b[0mgradient_descent\u001b[0m\u001b[0;34m(\u001b[0m\u001b[0mX\u001b[0m\u001b[0;34m,\u001b[0m\u001b[0mY\u001b[0m\u001b[0;34m)\u001b[0m\u001b[0;34m\u001b[0m\u001b[0m\n\u001b[0m\u001b[1;32m     13\u001b[0m         \u001b[0mself\u001b[0m\u001b[0;34m.\u001b[0m\u001b[0mcoef\u001b[0m \u001b[0;34m=\u001b[0m \u001b[0mtmp\u001b[0m\u001b[0;34m[\u001b[0m\u001b[0;36m1\u001b[0m\u001b[0;34m:\u001b[0m\u001b[0;36m3\u001b[0m\u001b[0;34m]\u001b[0m\u001b[0;34m\u001b[0m\u001b[0m\n\u001b[1;32m     14\u001b[0m         \u001b[0mself\u001b[0m\u001b[0;34m.\u001b[0m\u001b[0mintercept\u001b[0m \u001b[0;34m=\u001b[0m \u001b[0mtmp\u001b[0m\u001b[0;34m[\u001b[0m\u001b[0;36m0\u001b[0m\u001b[0;34m]\u001b[0m\u001b[0;34m\u001b[0m\u001b[0m\n",
      "\u001b[0;32m<ipython-input-52-bb497609acd5>\u001b[0m in \u001b[0;36mgradient_descent\u001b[0;34m(X, Y, C)\u001b[0m\n\u001b[1;32m      7\u001b[0m     \u001b[0mp\u001b[0m \u001b[0;34m=\u001b[0m \u001b[0;34m[\u001b[0m\u001b[0mx0\u001b[0m\u001b[0;34m]\u001b[0m\u001b[0;34m\u001b[0m\u001b[0m\n\u001b[1;32m      8\u001b[0m     \u001b[0mx\u001b[0m \u001b[0;34m=\u001b[0m \u001b[0mx0\u001b[0m\u001b[0;34m\u001b[0m\u001b[0m\n\u001b[0;32m----> 9\u001b[0;31m     \u001b[0mv\u001b[0m \u001b[0;34m=\u001b[0m \u001b[0mgrad\u001b[0m\u001b[0;34m(\u001b[0m\u001b[0mx\u001b[0m\u001b[0;34m)\u001b[0m\u001b[0;34m\u001b[0m\u001b[0m\n\u001b[0m\u001b[1;32m     10\u001b[0m     \u001b[0mit\u001b[0m \u001b[0;34m=\u001b[0m \u001b[0;36m0\u001b[0m\u001b[0;34m\u001b[0m\u001b[0m\n\u001b[1;32m     11\u001b[0m     \u001b[0;32mwhile\u001b[0m \u001b[0mcont\u001b[0m\u001b[0;34m(\u001b[0m\u001b[0mit\u001b[0m\u001b[0;34m,\u001b[0m \u001b[0mv\u001b[0m\u001b[0;34m)\u001b[0m\u001b[0;34m:\u001b[0m\u001b[0;34m\u001b[0m\u001b[0m\n",
      "\u001b[0;32m<ipython-input-52-bb497609acd5>\u001b[0m in \u001b[0;36m<lambda>\u001b[0;34m(x)\u001b[0m\n\u001b[1;32m      2\u001b[0m     \u001b[0meps\u001b[0m\u001b[0;34m=\u001b[0m\u001b[0;36m1e-3\u001b[0m\u001b[0;34m\u001b[0m\u001b[0m\n\u001b[1;32m      3\u001b[0m     \u001b[0mx0\u001b[0m \u001b[0;34m=\u001b[0m \u001b[0mnp\u001b[0m\u001b[0;34m.\u001b[0m\u001b[0mzeros\u001b[0m\u001b[0;34m(\u001b[0m\u001b[0mX\u001b[0m\u001b[0;34m.\u001b[0m\u001b[0mshape\u001b[0m\u001b[0;34m[\u001b[0m\u001b[0;36m1\u001b[0m\u001b[0;34m]\u001b[0m \u001b[0;34m+\u001b[0m \u001b[0;36m1\u001b[0m\u001b[0;34m)\u001b[0m\u001b[0;34m\u001b[0m\u001b[0m\n\u001b[0;32m----> 4\u001b[0;31m     \u001b[0mgrad\u001b[0m \u001b[0;34m=\u001b[0m \u001b[0;32mlambda\u001b[0m \u001b[0mx\u001b[0m\u001b[0;34m:\u001b[0m \u001b[0mgradient_regular\u001b[0m\u001b[0;34m(\u001b[0m\u001b[0mx\u001b[0m\u001b[0;34m,\u001b[0m \u001b[0mX\u001b[0m\u001b[0;34m,\u001b[0m \u001b[0mY\u001b[0m\u001b[0;34m)\u001b[0m\u001b[0;34m\u001b[0m\u001b[0m\n\u001b[0m\u001b[1;32m      5\u001b[0m     \u001b[0mf\u001b[0m \u001b[0;34m=\u001b[0m \u001b[0;32mlambda\u001b[0m \u001b[0mx\u001b[0m\u001b[0;34m:\u001b[0m \u001b[0mf_regular\u001b[0m\u001b[0;34m(\u001b[0m\u001b[0mx\u001b[0m\u001b[0;34m,\u001b[0m \u001b[0mX\u001b[0m\u001b[0;34m,\u001b[0m \u001b[0mY\u001b[0m\u001b[0;34m)\u001b[0m\u001b[0;34m\u001b[0m\u001b[0m\n\u001b[1;32m      6\u001b[0m     \u001b[0mcont\u001b[0m \u001b[0;34m=\u001b[0m \u001b[0;32mlambda\u001b[0m \u001b[0mit\u001b[0m\u001b[0;34m,\u001b[0m \u001b[0mv\u001b[0m\u001b[0;34m:\u001b[0m \u001b[0mnp\u001b[0m\u001b[0;34m.\u001b[0m\u001b[0mlinalg\u001b[0m\u001b[0;34m.\u001b[0m\u001b[0mnorm\u001b[0m\u001b[0;34m(\u001b[0m\u001b[0mv\u001b[0m\u001b[0;34m)\u001b[0m\u001b[0;34m>\u001b[0m\u001b[0meps\u001b[0m\u001b[0;34m\u001b[0m\u001b[0m\n",
      "\u001b[0;32m<ipython-input-46-6a96a6774f1d>\u001b[0m in \u001b[0;36mgradient_regular\u001b[0;34m(ab, X, Y, C)\u001b[0m\n\u001b[1;32m      2\u001b[0m     \u001b[0mprint\u001b[0m\u001b[0;34m(\u001b[0m\u001b[0mab\u001b[0m\u001b[0;34m[\u001b[0m\u001b[0;36m0\u001b[0m\u001b[0;34m]\u001b[0m\u001b[0;34m)\u001b[0m\u001b[0;34m\u001b[0m\u001b[0m\n\u001b[1;32m      3\u001b[0m     \u001b[0mprint\u001b[0m\u001b[0;34m(\u001b[0m\u001b[0mab\u001b[0m\u001b[0;34m[\u001b[0m\u001b[0;36m1\u001b[0m\u001b[0;34m:\u001b[0m\u001b[0;34m]\u001b[0m\u001b[0;34m)\u001b[0m\u001b[0;34m\u001b[0m\u001b[0m\n\u001b[0;32m----> 4\u001b[0;31m     \u001b[0mtmp\u001b[0m \u001b[0;34m=\u001b[0m \u001b[0mnp\u001b[0m\u001b[0;34m.\u001b[0m\u001b[0mexp\u001b[0m\u001b[0;34m(\u001b[0m\u001b[0;34m-\u001b[0m\u001b[0mY\u001b[0m\u001b[0;34m*\u001b[0m\u001b[0;34m(\u001b[0m\u001b[0mab\u001b[0m\u001b[0;34m[\u001b[0m\u001b[0;36m0\u001b[0m\u001b[0;34m]\u001b[0m \u001b[0;34m+\u001b[0m\u001b[0mX\u001b[0m\u001b[0;34m.\u001b[0m\u001b[0mdot\u001b[0m\u001b[0;34m(\u001b[0m\u001b[0mnp\u001b[0m\u001b[0;34m.\u001b[0m\u001b[0marray\u001b[0m\u001b[0;34m(\u001b[0m\u001b[0mab\u001b[0m\u001b[0;34m[\u001b[0m\u001b[0;36m1\u001b[0m\u001b[0;34m:\u001b[0m\u001b[0;34m]\u001b[0m\u001b[0;34m)\u001b[0m\u001b[0;34m)\u001b[0m\u001b[0;34m)\u001b[0m\u001b[0;34m)\u001b[0m\u001b[0;34m\u001b[0m\u001b[0m\n\u001b[0m\u001b[1;32m      5\u001b[0m     \u001b[0mga\u001b[0m \u001b[0;34m=\u001b[0m \u001b[0;34m(\u001b[0m\u001b[0;34m-\u001b[0m\u001b[0mY\u001b[0m\u001b[0;34m*\u001b[0m\u001b[0mtmp\u001b[0m\u001b[0;34m/\u001b[0m\u001b[0;34m(\u001b[0m\u001b[0;36m1\u001b[0m\u001b[0;34m+\u001b[0m\u001b[0mtmp\u001b[0m\u001b[0;34m)\u001b[0m\u001b[0;34m)\u001b[0m\u001b[0;34m.\u001b[0m\u001b[0mmean\u001b[0m\u001b[0;34m(\u001b[0m\u001b[0maxis\u001b[0m\u001b[0;34m=\u001b[0m\u001b[0;36m0\u001b[0m\u001b[0;34m)\u001b[0m\u001b[0;34m\u001b[0m\u001b[0m\n\u001b[1;32m      6\u001b[0m     \u001b[0mtmp2\u001b[0m \u001b[0;34m=\u001b[0m \u001b[0mnp\u001b[0m\u001b[0;34m.\u001b[0m\u001b[0mempty\u001b[0m\u001b[0;34m(\u001b[0m\u001b[0mX\u001b[0m\u001b[0;34m.\u001b[0m\u001b[0mshape\u001b[0m\u001b[0;34m)\u001b[0m\u001b[0;34m\u001b[0m\u001b[0m\n",
      "\u001b[0;31mValueError\u001b[0m: operands could not be broadcast together with shapes (1000,) (900,) "
     ]
    }
   ],
   "source": [
    "lr = LR()\n",
    "lr.fit(X_train, Y_train)"
   ]
  },
  {
   "cell_type": "code",
   "execution_count": 31,
   "metadata": {},
   "outputs": [],
   "source": [
    "#gradient_descent(x0 = np.asarray([0,0,0]))"
   ]
  },
  {
   "cell_type": "code",
   "execution_count": 42,
   "metadata": {},
   "outputs": [],
   "source": [
    "class LR(BaseEstimator, LinearClassifierMixin):\n",
    "    \"\"\"\n",
    "        Linear disciminant classifier for two classes (-1,1)\n",
    "    \"\"\"\n",
    "    def __init__(self):\n",
    "        self.coef = None\n",
    "        self.intercept = None\n",
    "        \n",
    "    def fit(self, X, y, C=1):\n",
    "        #X data numpy array size (n,p)\n",
    "        #Y class numpy array size (n,)\n",
    "        tmp = gradient_descent(X,Y)\n",
    "        self.coef = tmp[1:3]\n",
    "        self.intercept = tmp[0] \n",
    "        return self\n",
    "\n",
    "    def decision_function(self, X):\n",
    "        return (X.dot(self.coef) + self.intercept)\n",
    "\n",
    "    def predict(self, X):\n",
    "        return np.sign(-self.decision_function(X))"
   ]
  },
  {
   "cell_type": "markdown",
   "metadata": {},
   "source": [
    "# Example"
   ]
  },
  {
   "cell_type": "code",
   "execution_count": 33,
   "metadata": {},
   "outputs": [],
   "source": [
    "#2d plot function\n",
    "def plot_2dX_Y(X, Y, ax=plt):\n",
    "    X1 = X[Y == 1]\n",
    "    X2 = X[Y == -1]\n",
    "    ax.plot(X1[:, 0], X1[:, 1], \">\", label=\"Class 1\")\n",
    "    ax.plot(X2[:, 0], X2[:, 1], \"d\", label=\"Class 2\")"
   ]
  },
  {
   "cell_type": "code",
   "execution_count": 34,
   "metadata": {},
   "outputs": [],
   "source": [
    "# plot border from clf\n",
    "def plot_border(clf, data=None, num=500, label=None,ax=plt):\n",
    "    \"\"\"\n",
    "        Plot the frontiere f(x)=0 of the classifier clf within the same range as the one\n",
    "        of the data.\n",
    "        Input:\n",
    "            clf: binary classifier with a method decision_function\n",
    "            data: input data (X)\n",
    "            num: discretization parameter\n",
    "    \"\"\"\n",
    "    xmin, ymin = data.min(axis=0)\n",
    "    xmax, ymax = data.max(axis=0)\n",
    "    x, y = np.meshgrid(np.linspace(xmin, xmax, num), np.linspace(ymin, ymax))\n",
    "    z = np.fabs(clf.decision_function(np.c_[x.ravel(), y.ravel()])).reshape(x.shape)\n",
    "    zmin, zmax = z.min(), z.max()\n",
    "    ind = np.where((z-zmin)/(zmax-zmin) < 0.01)\n",
    "    ind_sort = np.argsort(y[ind])\n",
    "    ax.plot(x[ind][ind_sort], y[ind][ind_sort], label=label, linewidth=2)"
   ]
  },
  {
   "cell_type": "code",
   "execution_count": 35,
   "metadata": {},
   "outputs": [],
   "source": [
    "def get_metrics(clf,X,Y):\n",
    "    \"\"\"\n",
    "        Input:\n",
    "            clf: binary classifier with a method predict_function\n",
    "            data: (X)\n",
    "            classes: (Y) consider that Y=1 is 'yes class' and Y=-1 is 'No class'\n",
    "    \"\"\"\n",
    "    pred = clf.predict(X)\n",
    "    TP = ((pred == 1) & (Y == 1)).sum()\n",
    "    TN = ((pred == -1) & (Y == -1)).sum()\n",
    "    FP = ((pred == 1) & (Y == -1)).sum()\n",
    "    FN = ((pred == -1) & (Y == 1)).sum()\n",
    "    accuracy = (TP + TN) / (TP + TN + FN + FP)\n",
    "    prec = TP/ (TP + FP)\n",
    "    recall = TP / (TP + FN)\n",
    "    F1Score = 2*(recall * prec) / (recall + prec)\n",
    "    print('True Positive:',TP)\n",
    "    print('True Negative:',TN)\n",
    "    print('False Positive:',FP)\n",
    "    print('False Negative:',FN)\n",
    "    print('Accuracy:', accuracy)\n",
    "    print('Precision:', prec)\n",
    "    print('Recall:', recall)\n",
    "    print('F1 Score:', F1Score)"
   ]
  },
  {
   "cell_type": "code",
   "execution_count": 36,
   "metadata": {},
   "outputs": [],
   "source": [
    "#generate data\n",
    "p = 2;\n",
    "n = 1000;\n",
    "mu1 = np.random.randn(p) +3\n",
    "mu2 = np.random.randn(p) -2\n",
    "A = np.random.rand(p,p)\n",
    "sigma1 = np.dot(A,A.transpose())\n",
    "A = np.random.rand(p,p)\n",
    "sigma2 = np.dot(A,A.transpose())\n",
    "\n",
    "n1 = np.random.randint(int(n*0.1),int(n*0.9));\n",
    "n2 = n - n1;\n",
    "X1 = np.random.multivariate_normal(size=n1,mean=mu1,cov=sigma1)\n",
    "X2 = np.random.multivariate_normal(size=n2,mean=mu2,cov=sigma2)\n",
    "\n",
    "Y1 = np.ones(n1)\n",
    "Y2 = -np.ones(n2)\n",
    "X = np.r_[X1, X2]\n",
    "Y = np.r_[np.ones(X1.shape[0]), -np.ones(X2.shape[0])]"
   ]
  },
  {
   "cell_type": "code",
   "execution_count": 37,
   "metadata": {},
   "outputs": [],
   "source": [
    "#train set and test set\n",
    "data = np.c_[X,Y]\n",
    "np.random.shuffle(data)\n",
    "X_train = data[:int(n *0.9),0:p]\n",
    "Y_train = data[:int(n *0.9),p]\n",
    "X_test = data[int(n *0.9):,0:p]\n",
    "Y_test = data[int(n *0.9):,p]"
   ]
  },
  {
   "cell_type": "code",
   "execution_count": 38,
   "metadata": {},
   "outputs": [
    {
     "ename": "TypeError",
     "evalue": "gradient_descent() got an unexpected keyword argument 'x0'",
     "output_type": "error",
     "traceback": [
      "\u001b[0;31m---------------------------------------------------------------------------\u001b[0m",
      "\u001b[0;31mTypeError\u001b[0m                                 Traceback (most recent call last)",
      "\u001b[0;32m<ipython-input-38-bc94e99d57af>\u001b[0m in \u001b[0;36m<module>\u001b[0;34m()\u001b[0m\n\u001b[1;32m      1\u001b[0m \u001b[0;31m#compute model\u001b[0m\u001b[0;34m\u001b[0m\u001b[0;34m\u001b[0m\u001b[0m\n\u001b[1;32m      2\u001b[0m \u001b[0mlr\u001b[0m \u001b[0;34m=\u001b[0m \u001b[0mLR\u001b[0m\u001b[0;34m(\u001b[0m\u001b[0;34m)\u001b[0m\u001b[0;34m\u001b[0m\u001b[0m\n\u001b[0;32m----> 3\u001b[0;31m \u001b[0mlr\u001b[0m\u001b[0;34m.\u001b[0m\u001b[0mfit\u001b[0m\u001b[0;34m(\u001b[0m\u001b[0mX_train\u001b[0m\u001b[0;34m,\u001b[0m \u001b[0mY_train\u001b[0m\u001b[0;34m)\u001b[0m\u001b[0;34m\u001b[0m\u001b[0m\n\u001b[0m",
      "\u001b[0;32m<ipython-input-32-62030d71addc>\u001b[0m in \u001b[0;36mfit\u001b[0;34m(self, X, y, C)\u001b[0m\n\u001b[1;32m     10\u001b[0m         \u001b[0;31m#X data numpy array size (n,p)\u001b[0m\u001b[0;34m\u001b[0m\u001b[0;34m\u001b[0m\u001b[0m\n\u001b[1;32m     11\u001b[0m         \u001b[0;31m#Y class numpy array size (n,)\u001b[0m\u001b[0;34m\u001b[0m\u001b[0;34m\u001b[0m\u001b[0m\n\u001b[0;32m---> 12\u001b[0;31m         \u001b[0mtmp\u001b[0m \u001b[0;34m=\u001b[0m \u001b[0mgradient_descent\u001b[0m\u001b[0;34m(\u001b[0m\u001b[0mx0\u001b[0m \u001b[0;34m=\u001b[0m \u001b[0mnp\u001b[0m\u001b[0;34m.\u001b[0m\u001b[0masarray\u001b[0m\u001b[0;34m(\u001b[0m\u001b[0;34m[\u001b[0m\u001b[0;36m0\u001b[0m\u001b[0;34m,\u001b[0m\u001b[0;36m0\u001b[0m\u001b[0;34m,\u001b[0m\u001b[0;36m0\u001b[0m\u001b[0;34m]\u001b[0m\u001b[0;34m)\u001b[0m\u001b[0;34m)\u001b[0m\u001b[0;34m\u001b[0m\u001b[0m\n\u001b[0m\u001b[1;32m     13\u001b[0m         \u001b[0mself\u001b[0m\u001b[0;34m.\u001b[0m\u001b[0mcoef\u001b[0m \u001b[0;34m=\u001b[0m \u001b[0mtmp\u001b[0m\u001b[0;34m[\u001b[0m\u001b[0;36m1\u001b[0m\u001b[0;34m:\u001b[0m\u001b[0;36m3\u001b[0m\u001b[0;34m]\u001b[0m\u001b[0;34m\u001b[0m\u001b[0m\n\u001b[1;32m     14\u001b[0m         \u001b[0mself\u001b[0m\u001b[0;34m.\u001b[0m\u001b[0mintercept\u001b[0m \u001b[0;34m=\u001b[0m \u001b[0mtmp\u001b[0m\u001b[0;34m[\u001b[0m\u001b[0;36m0\u001b[0m\u001b[0;34m]\u001b[0m\u001b[0;34m\u001b[0m\u001b[0m\n",
      "\u001b[0;31mTypeError\u001b[0m: gradient_descent() got an unexpected keyword argument 'x0'"
     ]
    }
   ],
   "source": [
    "#compute model\n",
    "lr = LR()\n",
    "lr.fit(X_train, Y_train)"
   ]
  },
  {
   "cell_type": "code",
   "execution_count": 12,
   "metadata": {},
   "outputs": [
    {
     "data": {
      "image/png": "[encoded data removed]",
      "text/plain": [
       "<matplotlib.figure.Figure at 0x7f4d527549e8>"
      ]
     },
     "metadata": {},
     "output_type": "display_data"
    }
   ],
   "source": [
    "#plot train\n",
    "fig, ax = plt.subplots(figsize=(10,10))\n",
    "plot_2dX_Y(X_train, Y_train,ax)\n",
    "plot_border(lr, X_train,ax = ax,label='mine')\n",
    "ax.set_title('train model')\n",
    "ax.legend(loc=\"best\");"
   ]
  },
  {
   "cell_type": "code",
   "execution_count": 13,
   "metadata": {},
   "outputs": [
    {
     "name": "stdout",
     "output_type": "stream",
     "text": [
      "True Positive: 233\n",
      "True Negative: 667\n",
      "False Positive: 0\n",
      "False Negative: 0\n",
      "Accuracy: 1.0\n",
      "Precision: 1.0\n",
      "Recall: 1.0\n",
      "F1 Score: 1.0\n"
     ]
    }
   ],
   "source": [
    "#metrics train\n",
    "get_metrics(lr, X_train, Y_train)"
   ]
  },
  {
   "cell_type": "code",
   "execution_count": 14,
   "metadata": {},
   "outputs": [
    {
     "data": {
      "image/png": "[encoded data removed]",
      "text/plain": [
       "<matplotlib.figure.Figure at 0x7f4d527b4fd0>"
      ]
     },
     "metadata": {},
     "output_type": "display_data"
    }
   ],
   "source": [
    "#plot test\n",
    "fig, ax = plt.subplots(figsize=(10,10))\n",
    "plot_2dX_Y(X_test, Y_test,ax)\n",
    "plot_border(lr, X_test,ax = ax,label='mine')\n",
    "ax.set_title('test model')\n",
    "ax.legend(loc=\"best\");"
   ]
  },
  {
   "cell_type": "code",
   "execution_count": 15,
   "metadata": {},
   "outputs": [
    {
     "name": "stdout",
     "output_type": "stream",
     "text": [
      "True Positive: 23\n",
      "True Negative: 77\n",
      "False Positive: 0\n",
      "False Negative: 0\n",
      "Accuracy: 1.0\n",
      "Precision: 1.0\n",
      "Recall: 1.0\n",
      "F1 Score: 1.0\n"
     ]
    }
   ],
   "source": [
    "#metrics test\n",
    "get_metrics(lr, X_test, Y_test)"
   ]
  },
  {
   "cell_type": "markdown",
   "metadata": {},
   "source": [
    "# References"
   ]
  },
  {
   "cell_type": "code",
   "execution_count": 16,
   "metadata": {},
   "outputs": [],
   "source": [
    "from sklearn.linear_model import LogisticRegression"
   ]
  }
 ],
 "metadata": {
  "kernelspec": {
   "display_name": "Python 3",
   "language": "python",
   "name": "python3"
  },
  "language_info": {
   "codemirror_mode": {
    "name": "ipython",
    "version": 3
   },
   "file_extension": ".py",
   "mimetype": "text/x-python",
   "name": "python",
   "nbconvert_exporter": "python",
   "pygments_lexer": "ipython3",
   "version": "3.6.4"
  }
 },
 "nbformat": 4,
 "nbformat_minor": 2
}

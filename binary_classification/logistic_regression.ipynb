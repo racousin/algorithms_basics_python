{
 "cells": [
  {
   "cell_type": "markdown",
   "metadata": {},
   "source": [
    "Author:  Raphael Cousin\n",
    "\n",
    "Project: https://github.com/racousin/algorithms_basics_python"
   ]
  },
  {
   "cell_type": "markdown",
   "metadata": {},
   "source": [
    "# Theory"
   ]
  },
  {
   "cell_type": "markdown",
   "metadata": {},
   "source": [
    "__Context:__\n",
    "\n",
    "* Data : $X \\in \\mathbb{R}^d$ \n",
    "\n",
    "\n",
    "* Classes : $Y \\in \\{-1,1\\}$\n",
    "\n",
    "* Classifier :\n",
    "$g^*(x) = \\left\\{\\begin{array}{ll}1 & if\\quad\\mathbb{P}(Y = 1 | X = x) >\\mathbb{P}(Y = -1 | X = x) \\\\-1 & else\\end{array}\\right.$\n",
    "\n",
    "* sample size: $n$\n",
    "\n",
    "* feature size : $p$\n",
    "\n",
    "__Hypothesis:__\n",
    "\n",
    "$\\exists (\\alpha, \\beta) \\in \\mathbb{R} \\times \\mathbb{R}^p$ such as $\\forall x \\in \\mathbb{R}^p:$\n",
    "\n",
    "$log \\left(\\frac{\\mathbb{P}(Y=1 | X = x)}{\\mathbb{P}(Y=-1 | X = x)}\\right) = \\alpha + \\beta^Tx$\n",
    "\n",
    "__Likelihood-Logistic loss-Mean square error:__\n",
    "\n",
    "$l:x \\in \\mathbb{R}^p \\mapsto log(1 + e^{-x})$\n",
    "\n",
    "$L(X,Y,alpha,beta) = \\mathbb{P}(X,Y|\\alpha, \\beta) = \\left(l(Y(\\alpha + \\beta^TX)\\right)^{-1}$\n",
    "\n",
    "$R(f) = \\mathbb{E}\\left[ log\\left(l(Yf(X)\\right)\\right]$\n",
    "\n",
    "__Results:__\n",
    "\n",
    "\n",
    "$g^*(x) = \\left\\{\\begin{array}{ll}1 & if \\quad f^*(x)>0\\\\-1 & else\\end{array}\\right.$\n",
    "\n",
    "with:\n",
    "\n",
    "$f^*(x)=\\alpha_0 + \\beta_0^Tx \\in Argmin_{affine-functions}R(f)$\n",
    "\n",
    "__Empirical mean square error:__\n",
    "\n",
    "$\\hat{R}(\\alpha,\\beta) = \\frac{1}{n} \\sum_{i=1}^{n}log\\left( l(Y_i(\\alpha+\\beta^TXi)\\right)$\n",
    "\n",
    "__Regularization term:__\n",
    "\n",
    "To ensure a minimum, we pose:\n",
    "\n",
    "$\\tilde{R_{\\lambda}}(\\alpha,\\beta) = \\frac{1}{n} \\sum_{i=1}^{n}log\\left( l(Y_i(\\alpha+\\beta^TXi)\\right) + \\frac{\\lambda}{2} ||\\beta||_2^2$"
   ]
  },
  {
   "cell_type": "markdown",
   "metadata": {},
   "source": [
    "# Algorithm"
   ]
  },
  {
   "cell_type": "code",
   "execution_count": 2,
   "metadata": {},
   "outputs": [],
   "source": [
    "import numpy as np\n",
    "import matplotlib.pyplot as plt\n",
    "from sklearn.base import BaseEstimator\n",
    "from sklearn.discriminant_analysis import LinearClassifierMixin"
   ]
  },
  {
   "cell_type": "code",
   "execution_count": 87,
   "metadata": {},
   "outputs": [],
   "source": [
    "def gradient_regular(ab, X=X, Y=Y, C=1):\n",
    "    a = ab[0]\n",
    "    b1 = ab[1]\n",
    "    b2 = ab[2]\n",
    "    tmp = np.exp(-Y*(a +X.dot(np.array(ab[1:]))))\n",
    "    ga = (-Y*tmp/(1+tmp)).mean(axis=0)\n",
    "    tmp2 = np.empty(X.shape)\n",
    "    for i in range(X.shape[1]):\n",
    "        tmp2[:,i] = Y*X[:,i] *(tmp/(1+tmp) + 2* ab[i+1] / C)\n",
    "    gb = [ga] + list(tmp2.mean(axis=0))\n",
    "    return np.asarray(gb)"
   ]
  },
  {
   "cell_type": "code",
   "execution_count": 86,
   "metadata": {},
   "outputs": [
    {
     "data": {
      "text/plain": [
       "[-0.163, 1.5037347831674435, 1.8577817098760085]"
      ]
     },
     "execution_count": 86,
     "metadata": {},
     "output_type": "execute_result"
    }
   ],
   "source": [
    "gradient_regular([0,0,0], X, Y)"
   ]
  },
  {
   "cell_type": "code",
   "execution_count": 97,
   "metadata": {},
   "outputs": [],
   "source": [
    "def gradient_descent(n_it=None, eps=1e-3, step=None, x0=None):\n",
    "    x0 = np.asarray(x0)\n",
    "    if type(step) == int or type(step) == float:\n",
    "        s = step\n",
    "        step = None\n",
    "    else:\n",
    "        s = 1\n",
    "    if not step:\n",
    "        s = 1\n",
    "    grad = lambda x: gradient_regular(x, X, Y)\n",
    "    if n_it:\n",
    "        if eps:\n",
    "            cont = lambda it, v: it<n_it-1 and np.linalg.norm(v)>eps\n",
    "        else:\n",
    "            cont = lambda it, v: it<n_it-1\n",
    "    else:\n",
    "        cont = lambda it, v: np.linalg.norm(v)>eps\n",
    "    p = [x0]\n",
    "    x = x0\n",
    "    v = grad(x)\n",
    "    it = 0\n",
    "    while cont(it, v):\n",
    "        s = 1\n",
    "        v_norm = v.dot(v)\n",
    "        x = x - s * v\n",
    "        p.append(x)\n",
    "        v = gradient_regular(x, X, Y, C=1)\n",
    "        it += 1\n",
    "    return x"
   ]
  },
  {
   "cell_type": "code",
   "execution_count": 98,
   "metadata": {},
   "outputs": [
    {
     "name": "stderr",
     "output_type": "stream",
     "text": [
      "/opt/conda/lib/python3.6/site-packages/ipykernel_launcher.py:6: RuntimeWarning: invalid value encountered in true_divide\n",
      "  \n",
      "/opt/conda/lib/python3.6/site-packages/ipykernel_launcher.py:9: RuntimeWarning: invalid value encountered in true_divide\n",
      "  if __name__ == '__main__':\n"
     ]
    },
    {
     "data": {
      "text/plain": [
       "array([ 8.15011229e-01, -5.56746730e+02, -2.16580492e+03])"
      ]
     },
     "execution_count": 98,
     "metadata": {},
     "output_type": "execute_result"
    }
   ],
   "source": [
    "gradient_descent(x0 = np.asarray([0,0,0]))"
   ]
  },
  {
   "cell_type": "code",
   "execution_count": 100,
   "metadata": {},
   "outputs": [],
   "source": [
    "class LR(BaseEstimator, LinearClassifierMixin):\n",
    "    \"\"\"\n",
    "        Linear disciminant classifier for two classes (-1,1)\n",
    "    \"\"\"\n",
    "    def __init__(self):\n",
    "        self.coef = None\n",
    "        self.intercept = None\n",
    "        \n",
    "    def fit(self, X, y, C=1):\n",
    "        #X data numpy array size (n,p)\n",
    "        #Y class numpy array size (n,)\n",
    "        tmp = gradient_descent(x0 = np.asarray([0,0,0]))\n",
    "        self.coef = tmp[1:3]\n",
    "        self.intercept = tmp[0] \n",
    "        return self\n",
    "\n",
    "    def decision_function(self, X):\n",
    "        return (X.dot(self.coef) + self.intercept)\n",
    "\n",
    "    def predict(self, X):\n",
    "        return np.sign(self.decision_function(X))"
   ]
  },
  {
   "cell_type": "markdown",
   "metadata": {},
   "source": [
    "# Example"
   ]
  },
  {
   "cell_type": "code",
   "execution_count": 101,
   "metadata": {},
   "outputs": [],
   "source": [
    "#2d plot function\n",
    "def plot_2dX_Y(X, Y, ax=plt):\n",
    "    X1 = X[Y == 1]\n",
    "    X2 = X[Y == -1]\n",
    "    ax.plot(X1[:, 0], X1[:, 1], \">\", label=\"Class 1\")\n",
    "    ax.plot(X2[:, 0], X2[:, 1], \"d\", label=\"Class 2\")"
   ]
  },
  {
   "cell_type": "code",
   "execution_count": 111,
   "metadata": {},
   "outputs": [],
   "source": [
    "# plot border from clf\n",
    "def plot_border(clf, data=None, num=500, label=None,ax=plt):\n",
    "    \"\"\"\n",
    "        Plot the frontiere f(x)=0 of the classifier clf within the same range as the one\n",
    "        of the data.\n",
    "        Input:\n",
    "            clf: binary classifier with a method decision_function\n",
    "            data: input data (X)\n",
    "            num: discretization parameter\n",
    "    \"\"\"\n",
    "    xmin, ymin = data.min(axis=0)\n",
    "    xmax, ymax = data.max(axis=0)\n",
    "    x, y = np.meshgrid(np.linspace(xmin, xmax, num), np.linspace(ymin, ymax))\n",
    "    z = np.fabs(clf.decision_function(np.c_[x.ravel(), y.ravel()])).reshape(x.shape)\n",
    "    zmin, zmax = z.min(), z.max()\n",
    "    ind = np.where((z-zmin)/(zmax-zmin) < 0.01)\n",
    "    ind_sort = np.argsort(y[ind])\n",
    "    ax.plot(x[ind][ind_sort], y[ind][ind_sort], label=label, linewidth=2)"
   ]
  },
  {
   "cell_type": "code",
   "execution_count": 117,
   "metadata": {},
   "outputs": [],
   "source": [
    "def get_metrics(clf,X,Y):\n",
    "    \"\"\"\n",
    "        Input:\n",
    "            clf: binary classifier with a method predict_function\n",
    "            data: (X)\n",
    "            classes: (Y) consider that Y=1 is 'yes class' and Y=-1 is 'No class'\n",
    "    \"\"\"\n",
    "    pred = clf.predict(X)\n",
    "    TP = ((pred == 1) & (Y == 1)).sum()\n",
    "    TN = ((pred == -1) & (Y == -1)).sum()\n",
    "    FP = ((pred == 1) & (Y == -1)).sum()\n",
    "    FN = ((pred == -1) & (Y == 1)).sum()\n",
    "    accuracy = (TP + TN) / (TP + TN + FN + FP)\n",
    "    prec = TP/ (TP + FP)\n",
    "    recall = TP / (TP + FN)\n",
    "    F1Score = 2*(recall * prec) / (recall + prec)\n",
    "    print('True Positive:',TP)\n",
    "    print('True Negative:',TN)\n",
    "    print('False Positive:',FP)\n",
    "    print('False Negative:',FN)\n",
    "    print('Accuracy:', accuracy)\n",
    "    print('Precision:', prec)\n",
    "    print('Recall:', recall)\n",
    "    print('F1 Score:', F1Score)"
   ]
  },
  {
   "cell_type": "code",
   "execution_count": 118,
   "metadata": {},
   "outputs": [],
   "source": [
    "#generate data\n",
    "p = 2;\n",
    "n = 1000;\n",
    "mu1 = np.random.randn(p) +3\n",
    "mu2 = np.random.randn(p) -2\n",
    "A = np.random.rand(p,p)\n",
    "sigma1 = np.dot(A,A.transpose())\n",
    "A = np.random.rand(p,p)\n",
    "sigma2 = np.dot(A,A.transpose())\n",
    "\n",
    "n1 = np.random.randint(int(n*0.1),int(n*0.9));\n",
    "n2 = n - n1;\n",
    "X1 = np.random.multivariate_normal(size=n1,mean=mu1,cov=sigma1)\n",
    "X2 = np.random.multivariate_normal(size=n2,mean=mu2,cov=sigma2)\n",
    "\n",
    "Y1 = np.ones(n1)\n",
    "Y2 = -np.ones(n2)\n",
    "X = np.r_[X1, X2]\n",
    "Y = np.r_[np.ones(X1.shape[0]), -np.ones(X2.shape[0])]"
   ]
  },
  {
   "cell_type": "code",
   "execution_count": 119,
   "metadata": {},
   "outputs": [],
   "source": [
    "#train set and test set\n",
    "data = np.c_[X,Y]\n",
    "np.random.shuffle(data)\n",
    "X_train = data[:int(n *0.9),0:p]\n",
    "Y_train = data[:int(n *0.9),p]\n",
    "X_test = data[int(n *0.9):,0:p]\n",
    "Y_test = data[int(n *0.9):,p]"
   ]
  },
  {
   "cell_type": "code",
   "execution_count": 120,
   "metadata": {},
   "outputs": [
    {
     "name": "stderr",
     "output_type": "stream",
     "text": [
      "/opt/conda/lib/python3.6/site-packages/ipykernel_launcher.py:6: RuntimeWarning: invalid value encountered in true_divide\n",
      "  \n",
      "/opt/conda/lib/python3.6/site-packages/ipykernel_launcher.py:9: RuntimeWarning: invalid value encountered in true_divide\n",
      "  if __name__ == '__main__':\n"
     ]
    },
    {
     "data": {
      "text/plain": [
       "LR()"
      ]
     },
     "execution_count": 120,
     "metadata": {},
     "output_type": "execute_result"
    }
   ],
   "source": [
    "#compute model\n",
    "lr = LR()\n",
    "lr.fit(X_train, Y_train)"
   ]
  },
  {
   "cell_type": "code",
   "execution_count": 121,
   "metadata": {},
   "outputs": [
    {
     "data": {
      "image/png": "[encoded data removed]",
      "text/plain": [
       "<matplotlib.figure.Figure at 0x7fd32c2c54e0>"
      ]
     },
     "metadata": {},
     "output_type": "display_data"
    }
   ],
   "source": [
    "#plot train\n",
    "fig, ax = plt.subplots(figsize=(10,10))\n",
    "plot_2dX_Y(X_train, Y_train,ax)\n",
    "plot_border(lr, X_train,ax = ax,label='mine')\n",
    "ax.set_title('train model')\n",
    "ax.legend(loc=\"best\");"
   ]
  },
  {
   "cell_type": "code",
   "execution_count": 369,
   "metadata": {},
   "outputs": [
    {
     "name": "stdout",
     "output_type": "stream",
     "text": [
      "True Positive: 260\n",
      "True Negative: 640\n",
      "False Positive: 0\n",
      "False Negative: 0\n",
      "Accuracy: 1.0\n",
      "Precision: 1.0\n",
      "Recall: 1.0\n",
      "F1 Score: 1.0\n"
     ]
    }
   ],
   "source": [
    "#metrics train\n",
    "get_metrics(qda, X_train, Y_train)"
   ]
  },
  {
   "cell_type": "code",
   "execution_count": 370,
   "metadata": {},
   "outputs": [
    {
     "data": {
      "image/png": "[encoded data removed]",
      "text/plain": [
       "<matplotlib.figure.Figure at 0x7fc1df6c9630>"
      ]
     },
     "metadata": {},
     "output_type": "display_data"
    }
   ],
   "source": [
    "#plot test\n",
    "fig, ax = plt.subplots(figsize=(10,10))\n",
    "plot_2dX_Y(X_test, Y_test,ax)\n",
    "plot_border(qda, X_test,ax = ax,label='mine')\n",
    "ax.set_title('test model')\n",
    "ax.legend(loc=\"best\");"
   ]
  },
  {
   "cell_type": "code",
   "execution_count": 373,
   "metadata": {},
   "outputs": [
    {
     "name": "stdout",
     "output_type": "stream",
     "text": [
      "True Positive: 36\n",
      "True Negative: 64\n",
      "False Positive: 0\n",
      "False Negative: 0\n",
      "Accuracy: 1.0\n",
      "Precision: 1.0\n",
      "Recall: 1.0\n",
      "F1 Score: 1.0\n"
     ]
    }
   ],
   "source": [
    "#metrics test\n",
    "get_metrics(qda, X_test, Y_test)"
   ]
  },
  {
   "cell_type": "markdown",
   "metadata": {},
   "source": [
    "# References"
   ]
  },
  {
   "cell_type": "code",
   "execution_count": 3,
   "metadata": {},
   "outputs": [],
   "source": [
    "from sklearn.linear_model import LogisticRegression"
   ]
  }
 ],
 "metadata": {
  "kernelspec": {
   "display_name": "Python 3",
   "language": "python",
   "name": "python3"
  },
  "language_info": {
   "codemirror_mode": {
    "name": "ipython",
    "version": 3
   },
   "file_extension": ".py",
   "mimetype": "text/x-python",
   "name": "python",
   "nbconvert_exporter": "python",
   "pygments_lexer": "ipython3",
   "version": "3.6.4"
  }
 },
 "nbformat": 4,
 "nbformat_minor": 2
}

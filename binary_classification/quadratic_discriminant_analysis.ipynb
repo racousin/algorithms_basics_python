{
 "cells": [
  {
   "cell_type": "markdown",
   "metadata": {},
   "source": [
    "Author:  Raphael Cousin\n",
    "\n",
    "Project: https://github.com/racousin/algorithms_basics_python"
   ]
  },
  {
   "cell_type": "markdown",
   "metadata": {},
   "source": [
    "# Theory"
   ]
  },
  {
   "cell_type": "markdown",
   "metadata": {},
   "source": [
    "__Context:__\n",
    "\n",
    "* Data : $X \\in \\mathbb{R}^d$ \n",
    "\n",
    "\n",
    "* Classes : $Y \\in \\{-1,1\\}$\n",
    "\n",
    "* Classifier :\n",
    "$g^*(x) = \\left\\{\\begin{array}{ll}1 & if\\quad\\mathbb{P}(Y = 1 | X = x) >\\mathbb{P}(Y = -1 | X = x) \\\\-1 & else\\end{array}\\right.$\n",
    "\n",
    "* sample size: $n$\n",
    "\n",
    "* feature size : $p$\n",
    "\n",
    "__Hypothesis:__\n",
    "\n",
    "* $X|Y=1\\sim \\mathcal{N}(\\mu_+, \\Sigma_+)$\n",
    "\n",
    "* $X|Y=-1\\sim \\mathcal{N}(\\mu_-, \\Sigma_-)$\n",
    "\n",
    "__Maximum log likelihood:__\n",
    "\n",
    "$Argmax\\left\\{\\log(\\mathbb{P}(X,Y|\\Sigma,\\mu,\\pi)) = \\\\ \\sum_{Y_j = 1} log(\\pi_+) + \\frac{1}{2}log(|\\Sigma_+|) - \\frac{1}{2} (x-\\mu_+)^T\\Sigma_+^{1}(x-\\mu_+)+ \\\\ \\sum_{Y_j = -1} log(\\pi_-) + \\frac{1}{2} log(|\\Sigma_-|) - \\frac{1}{2} (x-\\mu_-)^T\\Sigma_-^{1}(x-\\mu_-)\\right\\}$\n",
    "\n",
    "__Results:__\n",
    "\n",
    "\n",
    "$g^*(x) = \\left\\{\\begin{array}{ll}1 & if \\quad h(x)+b>0\\\\-1 & else\\end{array}\\right.$\n",
    "\n",
    "with:\n",
    "\n",
    "$h(x) = \\frac{1}{2}x^T(\\Sigma^{-1}_- -\\Sigma^{-1}_+)x + (\\mu_+^T\\Sigma^{-1}_+ - \\mu_-^T\\Sigma^{-1}_-)x$\n",
    "\n",
    "$b =\\frac{1}{2}(\\mu_+ \\Sigma^{-1}_+\\mu_+ -\\mu_- \\Sigma^{-1}_-\\mu_-) - \\frac{1}{2} log(\\frac{|\\Sigma_+|}{|\\Sigma_-|})+  log(\\frac{\\pi_+}{\\pi_-})$\n",
    "\n",
    "$\\pi_i = \\mathbb{P}(Y=i)$\n",
    "\n",
    "__Maximum likelihood estimator:__\n",
    "\n",
    "$\\hat{\\pi_i} = \\frac{1}{n}\\#[Y = i]$\n",
    "\n",
    "$\\hat{\\mu_i} = \\frac{1}{\\#[Y = i]}\\sum_{Y_j=i}X_j$\n",
    "\n",
    "$\\hat{\\Sigma_i} = \\frac{1}{\\#[Y = i]}\\sum_{Y_j=i}(X_j-\\hat{\\mu_i})(X_j-\\hat{\\mu_i})^T$ "
   ]
  },
  {
   "cell_type": "markdown",
   "metadata": {},
   "source": [
    "# Algorithm"
   ]
  },
  {
   "cell_type": "code",
   "execution_count": 7,
   "metadata": {},
   "outputs": [],
   "source": [
    "import numpy as np\n",
    "import matplotlib.pyplot as plt\n",
    "from sklearn.base import BaseEstimator\n",
    "from sklearn.discriminant_analysis import LinearClassifierMixin"
   ]
  },
  {
   "cell_type": "code",
   "execution_count": 366,
   "metadata": {},
   "outputs": [],
   "source": [
    "class QDA(BaseEstimator, LinearClassifierMixin):\n",
    "    \"\"\"\n",
    "        QDA classifier for two classes (-1,1)\n",
    "    \"\"\"\n",
    "    def __init__(self):\n",
    "        self.coef_linear = None\n",
    "        self.coef_quadratic = None\n",
    "        self.intercept = None\n",
    "        \n",
    "    def fit(self, X, y):\n",
    "        #X data numpy array size (n,p)\n",
    "        #Y class numpy array size (n,)\n",
    "        X1 = X[y==1]\n",
    "        X2 = X[y==-1]\n",
    "        cov1 = np.cov(X1.T, bias=True)\n",
    "        cov2 = np.cov(X2.T, bias=True)\n",
    "        invcov1 = np.linalg.inv(cov1)\n",
    "        invcov2 = np.linalg.inv(cov2)\n",
    "        mu1 = X1.mean(axis=0)\n",
    "        mu2 = X2.mean(axis=0)\n",
    "        pi1, pi2 = len(X1), len(X2)\n",
    "        X1, X2 = None, None\n",
    "        self.coef_linear = mu1.dot(invcov1) - mu2.dot(invcov2)\n",
    "        self.coef_quadratic = 0.5 * (invcov2 - invcov1)\n",
    "        self.intercept = 0.5*(mu2.dot(invcov2.dot(mu2)) - mu1.dot(invcov1.dot(mu1))) + np.log(pi1/pi2) - 0.5 * np.log(np.linalg.det(cov1)/np.linalg.det(cov2))\n",
    "        return self\n",
    "\n",
    "    def decision_function(self, X):\n",
    "        return (X.dot(qda.coef_quadratic)*X).sum(axis=1) + X.dot(self.coef_linear) + self.intercept\n",
    "\n",
    "    def predict(self, X):\n",
    "        return np.sign(self.decision_function(X))"
   ]
  },
  {
   "cell_type": "markdown",
   "metadata": {},
   "source": [
    "# Example"
   ]
  },
  {
   "cell_type": "code",
   "execution_count": 278,
   "metadata": {},
   "outputs": [],
   "source": [
    "#2d plot function\n",
    "def plot_2dX_Y(X, Y, ax=plt):\n",
    "    X1 = X[Y == 1]\n",
    "    X2 = X[Y == -1]\n",
    "    ax.plot(X1[:, 0], X1[:, 1], \">\", label=\"Class 1\")\n",
    "    ax.plot(X2[:, 0], X2[:, 1], \"d\", label=\"Class 2\")"
   ]
  },
  {
   "cell_type": "code",
   "execution_count": 331,
   "metadata": {},
   "outputs": [],
   "source": [
    "# plot border from clf\n",
    "def plot_border(clf, data=None, num=500, label=None,ax=plt):\n",
    "    \"\"\"\n",
    "        Plot the frontiere f(x)=0 of the classifier clf within the same range as the one\n",
    "        of the data.\n",
    "        Input:\n",
    "            clf: binary classifier with a method decision_function\n",
    "            data: input data (X)\n",
    "            num: discretization parameter\n",
    "    \"\"\"\n",
    "    xmin, ymin = data.min(axis=0)\n",
    "    xmax, ymax = data.max(axis=0)\n",
    "    x, y = np.meshgrid(np.linspace(xmin, xmax, num), np.linspace(ymin, ymax))\n",
    "    z = np.fabs(clf.decision_function(np.c_[x.ravel(), y.ravel()])).reshape(x.shape)\n",
    "    zmin, zmax = z.min(), z.max()\n",
    "    ind = np.where((z-zmin)/(zmax-zmin) < 0.0001)\n",
    "    ind_sort = np.argsort(y[ind])\n",
    "    ax.plot(x[ind][ind_sort], y[ind][ind_sort], label=label, linewidth=2)"
   ]
  },
  {
   "cell_type": "code",
   "execution_count": 355,
   "metadata": {},
   "outputs": [],
   "source": [
    "def get_metrics(clf,X,Y):\n",
    "    \"\"\"\n",
    "        Input:\n",
    "            clf: binary classifier with a method predict_function\n",
    "            data: (X)\n",
    "            classes: (Y) consider that Y=1 is 'yes class' and Y=-1 is 'No class'\n",
    "    \"\"\"\n",
    "    pred = clf.predict(X)\n",
    "    TP = ((pred == 1) & (Y == 1)).sum()\n",
    "    TN = ((pred == -1) & (Y == -1)).sum()\n",
    "    FP = ((pred == 1) & (Y == -1)).sum()\n",
    "    FN = ((pred == -1) & (Y == 1)).sum()\n",
    "    accuracy = (TP + TN) / (TP + TN + FN + FP)\n",
    "    prec = TP/ (TP + FP)\n",
    "    recall = TP / (TP + FN)\n",
    "    F1Score = 2*(recall * prec) / (recall + prec)\n",
    "    print('True Positive:',TP)\n",
    "    print('True Negative:',TN)\n",
    "    print('False Positive:',FP)\n",
    "    print('False Negative:',FN)\n",
    "    print('Accuracy:', accuracy)\n",
    "    print('Precision:', prec)\n",
    "    print('Recall:', recall)\n",
    "    print('F1 Score:', F1Score)"
   ]
  },
  {
   "cell_type": "code",
   "execution_count": 350,
   "metadata": {},
   "outputs": [],
   "source": [
    "#generate data\n",
    "p = 2;\n",
    "n = 1000;\n",
    "mu1 = np.random.randn(p) +3\n",
    "mu2 = np.random.randn(p) -2\n",
    "A = np.random.rand(p,p)\n",
    "sigma1 = np.dot(A,A.transpose())\n",
    "A = np.random.rand(p,p)\n",
    "sigma2 = np.dot(A,A.transpose())\n",
    "\n",
    "n1 = np.random.randint(int(n*0.1),int(n*0.9));\n",
    "n2 = n - n1;\n",
    "X1 = np.random.multivariate_normal(size=n1,mean=mu1,cov=sigma1)\n",
    "X2 = np.random.multivariate_normal(size=n2,mean=mu2,cov=sigma2)\n",
    "\n",
    "Y1 = np.ones(n1)\n",
    "Y2 = -np.ones(n2)\n",
    "X = np.r_[X1, X2]\n",
    "Y = np.r_[np.ones(X1.shape[0]), -np.ones(X2.shape[0])]"
   ]
  },
  {
   "cell_type": "code",
   "execution_count": 351,
   "metadata": {},
   "outputs": [],
   "source": [
    "#train set and test set\n",
    "data = np.c_[X,Y]\n",
    "np.random.shuffle(data)\n",
    "X_train = data[:int(n *0.9),0:p]\n",
    "Y_train = data[:int(n *0.9),p]\n",
    "X_test = data[int(n *0.9):,0:p]\n",
    "Y_test = data[int(n *0.9):,p]"
   ]
  },
  {
   "cell_type": "code",
   "execution_count": 367,
   "metadata": {},
   "outputs": [
    {
     "data": {
      "text/plain": [
       "QDA(prior=True)"
      ]
     },
     "execution_count": 367,
     "metadata": {},
     "output_type": "execute_result"
    }
   ],
   "source": [
    "#compute model\n",
    "qda = QDA()\n",
    "qda.fit(X_train, Y_train)"
   ]
  },
  {
   "cell_type": "code",
   "execution_count": 368,
   "metadata": {},
   "outputs": [
    {
     "data": {
      "image/png": "[encoded data removed]",
      "text/plain": [
       "<matplotlib.figure.Figure at 0x7fc1e0abd4a8>"
      ]
     },
     "metadata": {},
     "output_type": "display_data"
    }
   ],
   "source": [
    "#plot train\n",
    "fig, ax = plt.subplots(figsize=(10,10))\n",
    "plot_2dX_Y(X_train, Y_train,ax)\n",
    "plot_border(qda, X_train,ax = ax,label='mine')\n",
    "ax.set_title('train model')\n",
    "ax.legend(loc=\"best\");"
   ]
  },
  {
   "cell_type": "code",
   "execution_count": 369,
   "metadata": {},
   "outputs": [
    {
     "name": "stdout",
     "output_type": "stream",
     "text": [
      "True Positive: 260\n",
      "True Negative: 640\n",
      "False Positive: 0\n",
      "False Negative: 0\n",
      "Accuracy: 1.0\n",
      "Precision: 1.0\n",
      "Recall: 1.0\n",
      "F1 Score: 1.0\n"
     ]
    }
   ],
   "source": [
    "#metrics train\n",
    "get_metrics(qda, X_train, Y_train)"
   ]
  },
  {
   "cell_type": "code",
   "execution_count": 365,
   "metadata": {},
   "outputs": [
    {
     "data": {
      "text/plain": [
       "array([False, False, False, False,  True, False, False,  True, False,\n",
       "       False, False,  True,  True, False, False, False, False,  True,\n",
       "       False, False, False,  True, False,  True, False,  True,  True,\n",
       "       False, False,  True,  True, False,  True, False, False, False,\n",
       "       False, False, False, False,  True, False, False,  True,  True,\n",
       "       False, False,  True, False, False, False, False, False, False,\n",
       "        True, False, False, False,  True, False,  True, False, False,\n",
       "       False, False,  True,  True,  True, False,  True, False, False,\n",
       "       False, False,  True, False, False, False,  True, False, False,\n",
       "       False, False, False, False,  True,  True, False, False,  True,\n",
       "        True, False,  True,  True,  True, False, False, False,  True,\n",
       "       False, False, False, False, False, False,  True, False, False,\n",
       "       False, False, False, False, False,  True, False, False, False,\n",
       "        True, False, False, False, False, False, False, False,  True,\n",
       "        True, False, False, False, False, False,  True, False,  True,\n",
       "       False,  True, False, False, False,  True,  True, False,  True,\n",
       "        True, False, False,  True,  True, False, False, False, False,\n",
       "       False, False,  True, False, False,  True,  True,  True, False,\n",
       "        True, False,  True, False,  True, False,  True, False,  True,\n",
       "        True,  True,  True, False, False,  True, False, False, False,\n",
       "       False,  True, False, False, False, False, False, False, False,\n",
       "        True, False, False, False, False,  True,  True, False, False,\n",
       "        True, False, False, False, False,  True, False, False, False,\n",
       "       False, False, False, False, False, False,  True, False,  True,\n",
       "       False, False, False, False, False, False, False,  True, False,\n",
       "       False,  True, False, False, False, False, False, False,  True,\n",
       "       False, False, False,  True, False,  True,  True, False,  True,\n",
       "        True, False, False, False,  True,  True,  True, False, False,\n",
       "       False, False, False,  True, False,  True,  True, False, False,\n",
       "       False,  True, False, False, False, False, False, False,  True,\n",
       "       False,  True,  True, False, False,  True, False,  True,  True,\n",
       "        True, False, False,  True,  True,  True, False, False,  True,\n",
       "        True, False,  True, False, False,  True, False,  True, False,\n",
       "       False, False, False, False, False, False, False, False, False,\n",
       "       False, False, False,  True, False, False, False,  True, False,\n",
       "       False, False,  True, False, False,  True, False,  True,  True,\n",
       "        True, False, False,  True,  True, False, False, False, False,\n",
       "       False, False, False,  True, False, False, False,  True,  True,\n",
       "        True,  True,  True, False, False, False, False, False, False,\n",
       "       False, False, False, False, False, False, False, False,  True,\n",
       "       False,  True,  True, False, False, False,  True,  True, False,\n",
       "       False, False,  True, False, False, False, False, False, False,\n",
       "       False, False, False, False, False, False, False,  True, False,\n",
       "        True, False, False, False,  True, False,  True, False, False,\n",
       "        True,  True, False,  True, False, False, False,  True,  True,\n",
       "       False,  True, False, False, False, False, False, False, False,\n",
       "       False, False, False, False, False,  True,  True, False, False,\n",
       "       False, False, False, False, False,  True,  True,  True, False,\n",
       "        True,  True, False, False,  True, False,  True, False, False,\n",
       "        True, False,  True, False,  True, False,  True,  True, False,\n",
       "        True, False, False, False,  True, False,  True, False, False,\n",
       "        True, False, False, False,  True, False, False, False,  True,\n",
       "       False,  True, False, False, False, False, False,  True, False,\n",
       "       False, False, False, False, False,  True, False, False, False,\n",
       "       False,  True, False,  True, False, False, False, False, False,\n",
       "        True, False, False,  True, False, False, False, False, False,\n",
       "        True, False, False, False, False, False, False, False,  True,\n",
       "       False,  True, False, False, False, False,  True,  True, False,\n",
       "       False, False,  True, False,  True,  True, False, False,  True,\n",
       "       False, False,  True,  True,  True, False, False,  True,  True,\n",
       "        True,  True, False, False,  True, False,  True, False, False,\n",
       "       False, False, False, False, False, False, False, False, False,\n",
       "        True, False, False,  True, False,  True, False, False, False,\n",
       "        True, False, False, False,  True, False, False,  True, False,\n",
       "        True, False, False,  True, False, False,  True,  True, False,\n",
       "        True,  True,  True,  True,  True, False, False,  True, False,\n",
       "       False,  True, False,  True, False, False, False, False, False,\n",
       "       False, False,  True, False, False, False, False, False,  True,\n",
       "       False, False, False, False,  True,  True, False, False, False,\n",
       "       False, False, False, False,  True,  True, False, False,  True,\n",
       "       False, False,  True, False,  True, False, False, False, False,\n",
       "       False, False, False, False, False, False, False,  True, False,\n",
       "       False, False, False, False, False, False, False,  True, False,\n",
       "       False, False, False, False,  True,  True, False, False, False,\n",
       "       False, False,  True,  True, False, False, False, False, False,\n",
       "       False, False, False, False, False, False, False, False, False,\n",
       "       False, False, False, False, False, False, False, False, False,\n",
       "       False, False, False, False,  True,  True, False, False,  True,\n",
       "       False, False, False, False,  True, False,  True,  True, False,\n",
       "        True, False, False, False,  True, False, False, False,  True,\n",
       "       False,  True, False,  True,  True, False, False, False, False,\n",
       "       False, False, False, False, False, False,  True, False, False,\n",
       "        True, False, False, False, False, False, False, False, False,\n",
       "       False,  True,  True, False, False,  True, False, False,  True,\n",
       "        True, False, False, False,  True, False, False, False,  True,\n",
       "       False,  True, False, False, False, False,  True, False, False,\n",
       "       False, False, False, False, False,  True, False, False, False,\n",
       "       False, False, False, False, False, False, False,  True,  True,\n",
       "       False, False, False, False, False,  True, False, False, False,\n",
       "        True, False, False,  True, False,  True, False, False,  True,\n",
       "       False, False, False, False, False, False,  True, False,  True,\n",
       "       False, False, False,  True,  True, False,  True, False, False,\n",
       "       False, False, False, False, False,  True, False, False,  True,\n",
       "       False,  True, False, False, False, False, False, False, False,\n",
       "       False, False,  True, False, False,  True, False, False, False,\n",
       "        True, False,  True, False,  True,  True, False, False, False,\n",
       "       False,  True, False, False, False, False, False,  True,  True,\n",
       "       False, False, False,  True, False, False, False, False, False,\n",
       "       False, False, False,  True,  True, False, False, False, False,\n",
       "       False,  True, False,  True, False, False, False, False, False])"
      ]
     },
     "execution_count": 365,
     "metadata": {},
     "output_type": "execute_result"
    }
   ],
   "source": [
    "Y_train == 1"
   ]
  },
  {
   "cell_type": "code",
   "execution_count": 370,
   "metadata": {},
   "outputs": [
    {
     "data": {
      "image/png": "[encoded data removed]",
      "text/plain": [
       "<matplotlib.figure.Figure at 0x7fc1df6c9630>"
      ]
     },
     "metadata": {},
     "output_type": "display_data"
    }
   ],
   "source": [
    "#plot test\n",
    "fig, ax = plt.subplots(figsize=(10,10))\n",
    "plot_2dX_Y(X_test, Y_test,ax)\n",
    "plot_border(qda, X_test,ax = ax,label='mine')\n",
    "ax.set_title('test model')\n",
    "ax.legend(loc=\"best\");"
   ]
  },
  {
   "cell_type": "code",
   "execution_count": 373,
   "metadata": {},
   "outputs": [
    {
     "name": "stdout",
     "output_type": "stream",
     "text": [
      "True Positive: 36\n",
      "True Negative: 64\n",
      "False Positive: 0\n",
      "False Negative: 0\n",
      "Accuracy: 1.0\n",
      "Precision: 1.0\n",
      "Recall: 1.0\n",
      "F1 Score: 1.0\n"
     ]
    }
   ],
   "source": [
    "#metrics test\n",
    "get_metrics(qda, X_test, Y_test)"
   ]
  },
  {
   "cell_type": "markdown",
   "metadata": {},
   "source": [
    "# References"
   ]
  },
  {
   "cell_type": "code",
   "execution_count": null,
   "metadata": {},
   "outputs": [],
   "source": []
  },
  {
   "cell_type": "code",
   "execution_count": 374,
   "metadata": {},
   "outputs": [],
   "source": [
    "from sklearn.discriminant_analysis import QuadraticDiscriminantAnalysis"
   ]
  },
  {
   "cell_type": "code",
   "execution_count": null,
   "metadata": {},
   "outputs": [],
   "source": []
  }
 ],
 "metadata": {
  "kernelspec": {
   "display_name": "Python 3",
   "language": "python",
   "name": "python3"
  },
  "language_info": {
   "codemirror_mode": {
    "name": "ipython",
    "version": 3
   },
   "file_extension": ".py",
   "mimetype": "text/x-python",
   "name": "python",
   "nbconvert_exporter": "python",
   "pygments_lexer": "ipython3",
   "version": "3.6.4"
  }
 },
 "nbformat": 4,
 "nbformat_minor": 2
}

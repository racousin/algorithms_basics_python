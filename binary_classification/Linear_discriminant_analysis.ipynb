{
 "cells": [
  {
   "cell_type": "markdown",
   "metadata": {},
   "source": [
    "# Introduction"
   ]
  },
  {
   "cell_type": "markdown",
   "metadata": {},
   "source": [
    "__Context:__\n",
    "\n",
    "* Data : $X \\in \\mathbb{R}^d$ \n",
    "\n",
    "\n",
    "* Classes : $Y \\in \\{-1,1\\}$\n",
    "\n",
    "* Classifier :\n",
    "$g^*(x) = \\left\\{\\begin{array}{ll}1 & if~\\mathbb{P}(Y = 1 | X = x) >\\mathbb{P}(Y = -1 | X = x) \\\\-1 & else\\end{array}\\right.$\n",
    "\n",
    "* sample size n\n",
    "\n",
    "__Hypothesis:__\n",
    "\n",
    "* $X|Y=1\\sim \\mathcal{N}(\\mu_+, \\Sigma)$\n",
    "\n",
    "* $X|Y=-1\\sim \\mathcal{N}(\\mu_-, \\Sigma)$\n",
    "\n",
    "__Results:__\n",
    "\n",
    "\n",
    "$g^*(x) = \\left\\{\\begin{array}{ll}1 & if ~ h(x)+b>0\\\\-1 & else\\end{array}\\right.$\n",
    "\n",
    "with:\n",
    "\n",
    "$h(x) = (\\mu_+ - \\mu_-)^T\\Sigma^{-1}x$\n",
    "\n",
    "$b =\\frac{1}{2}(\\mu_- \\Sigma^{-1}\\mu_- -\\mu_+ \\Sigma^{-1}\\mu_+) +  log(\\frac{\\pi_+}{\\pi_-})$\n",
    "\n",
    "$\\pi_+ = \\mathbb{P}(Y=1) \\quad \\pi_- = \\mathbb{P}(Y=-1)$\n",
    "\n",
    "__Maximum likelihood estimate:__\n",
    "\n",
    "$\\hat{\\pi_i} = \\frac{1}{n}\\#[Y = i]$\n",
    "\n",
    "$\\hat{\\mu_i} = \\frac{1}{\\#[Y = i]}\\sum_{Y_j=i}X_j$\n",
    "\n",
    "$\\hat{\\Sigma_i}\\frac{1}{\\#[Y = i]}\\sum_{Y_j=i}(X_j-\\hat{\\mu_i})(X_j-\\hat{\\mu_i})^T$ "
   ]
  },
  {
   "cell_type": "markdown",
   "metadata": {},
   "source": [
    "# Algorithm"
   ]
  },
  {
   "cell_type": "code",
   "execution_count": 8,
   "metadata": {},
   "outputs": [],
   "source": [
    "import numpy as np\n",
    "import matplotlib.pyplot as plt\n",
    "from sklearn.base import BaseEstimator\n",
    "from sklearn.discriminant_analysis import LinearClassifierMixin"
   ]
  },
  {
   "cell_type": "code",
   "execution_count": 9,
   "metadata": {},
   "outputs": [],
   "source": [
    "class LDA(BaseEstimator, LinearClassifierMixin):\n",
    "    \"\"\"\n",
    "        LDA classifier for two classes (-1,1)\n",
    "    \"\"\"\n",
    "    def __init__(self, prior=None):\n",
    "        \"\"\"\n",
    "            prior: wether to use prior in the intercept. Default is false.\n",
    "        \"\"\"\n",
    "        self.prior = prior\n",
    "        self.coef = None\n",
    "        self.intercept = None\n",
    "        \n",
    "    def fit(self, X, y):\n",
    "        #X data numpy array size (n,p)\n",
    "        #Y class numpy array size (n,)\n",
    "        cov = np.cov(X.T, bias=2)\n",
    "        invcov = np.linalg.inv(cov)\n",
    "        mu1 = X[y==1, :].mean(axis=0)\n",
    "        mu2 = X[y==-1, :].mean(axis=0)\n",
    "        if not self.prior:\n",
    "            pi1, pi2 = 0.5, 0.5\n",
    "        else:\n",
    "            pi1, pi2 = np.mean(y == 1), np.mean(y == -1)\n",
    "        self.coef = invcov.dot(mu1-mu2)\n",
    "        self.intercept = 0.5*(mu2.dot(invcov.dot(mu2)) - mu1.dot(invcov.dot(mu1))) + np.log(pi1/pi2)\n",
    "        return self\n",
    "\n",
    "    def decision_function(self, X):\n",
    "        return X.dot(self.coef) + self.intercept\n",
    "\n",
    "    def predict(self, X):\n",
    "        return (self.decision_function(X) > 0).sign()"
   ]
  },
  {
   "cell_type": "markdown",
   "metadata": {},
   "source": [
    "# Exemple"
   ]
  },
  {
   "cell_type": "code",
   "execution_count": 14,
   "metadata": {},
   "outputs": [],
   "source": [
    "def plot_frontiere(clf, data=None, num=200, label=None,ax=plt):\n",
    "    \"\"\"\n",
    "        Plot the frontiere f(x)=0 of the classifier clf within the same range as the one\n",
    "        of the data.\n",
    "        Input:\n",
    "            clf: binary classifier with a method decision_function\n",
    "            data: input data (X)\n",
    "            num: discretization parameter\n",
    "    \"\"\"\n",
    "    xmin, ymin = data.min(axis=0)\n",
    "    xmax, ymax = data.max(axis=0)\n",
    "    x, y = np.meshgrid(np.linspace(xmin, xmax, num), np.linspace(ymin, ymax))\n",
    "    z = np.fabs(clf.decision_function(np.c_[x.ravel(), y.ravel()])).reshape(x.shape)\n",
    "    zmin, zmax = z.min(), z.max()\n",
    "    ind = np.where((z-zmin)/(zmax-zmin) < 0.001)\n",
    "    ind_sort = np.argsort(y[ind])\n",
    "    ax.plot(x[ind][ind_sort], y[ind][ind_sort], label=label, linewidth=2)"
   ]
  },
  {
   "cell_type": "code",
   "execution_count": 15,
   "metadata": {},
   "outputs": [],
   "source": [
    "def plotXY(X, Y, ax=plt):\n",
    "    X1 = X[Y == 1]\n",
    "    X2 = X[Y == -1]\n",
    "    ax.plot(X1[:, 0], X1[:, 1], \">\", label=\"Class 1\")\n",
    "    ax.plot(X2[:, 0], X2[:, 1], \"d\", label=\"Class 2\")"
   ]
  },
  {
   "cell_type": "code",
   "execution_count": 41,
   "metadata": {},
   "outputs": [],
   "source": [
    "p = 2;\n",
    "n = 100;"
   ]
  },
  {
   "cell_type": "code",
   "execution_count": 42,
   "metadata": {},
   "outputs": [],
   "source": [
    "mu1 = np.random.randn(p)\n",
    "mu2 = np.random.randn(p)\n",
    "A = np.random.rand(p,p)\n",
    "sigma = np.dot(A,A.transpose())"
   ]
  },
  {
   "cell_type": "code",
   "execution_count": 43,
   "metadata": {},
   "outputs": [],
   "source": [
    "n1 = np.random.randint(1,90);\n",
    "n2 = n - n1;\n",
    "X1 = np.random.multivariate_normal(size=n1,mean=mu1,cov=sigma)\n",
    "X2 = np.random.multivariate_normal(size=n2,mean=mu2,cov=sigma)"
   ]
  },
  {
   "cell_type": "code",
   "execution_count": 44,
   "metadata": {},
   "outputs": [],
   "source": [
    "Y1 = np.ones(n1)\n",
    "Y2 = -np.ones(n2)"
   ]
  },
  {
   "cell_type": "code",
   "execution_count": 45,
   "metadata": {},
   "outputs": [
    {
     "name": "stdout",
     "output_type": "stream",
     "text": [
      "LDA parameters:\n",
      "[0.17488988 0.984588  ] -0.8148342809780189\n"
     ]
    },
    {
     "data": {
      "image/png": "[encoded data removed]",
      "text/plain": [
       "<matplotlib.figure.Figure at 0x7f1a37567630>"
      ]
     },
     "metadata": {},
     "output_type": "display_data"
    }
   ],
   "source": [
    "X = np.r_[X1, X2]\n",
    "Y = np.r_[np.ones(X1.shape[0]), -np.ones(X2.shape[0])]\n",
    "\n",
    "lda = LDA()\n",
    "lda.fit(X, Y)\n",
    "print(\"LDA parameters:\")\n",
    "print(lda.coef / np.linalg.norm(lda.coef), lda.intercept / np.linalg.norm(lda.coef))\n",
    "\n",
    "fig, ax = plt.subplots(figsize=(10,10))\n",
    "plotXY(X, Y,ax)\n",
    "plot_frontiere(lda, X,ax = ax)\n",
    "plt.legend(loc=\"best\");"
   ]
  }
 ],
 "metadata": {
  "kernelspec": {
   "display_name": "Python 3",
   "language": "python",
   "name": "python3"
  },
  "language_info": {
   "codemirror_mode": {
    "name": "ipython",
    "version": 3
   },
   "file_extension": ".py",
   "mimetype": "text/x-python",
   "name": "python",
   "nbconvert_exporter": "python",
   "pygments_lexer": "ipython3",
   "version": "3.6.4"
  }
 },
 "nbformat": 4,
 "nbformat_minor": 2
}
